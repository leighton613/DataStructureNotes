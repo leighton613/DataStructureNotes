{
 "cells": [
  {
   "cell_type": "markdown",
   "metadata": {},
   "source": [
    "There are a bunch of problems named `two sum` or `three sum` or ish. We are listing them as follows:\n",
    "\n",
    "#### Two sum, 3sum, 4sum\n",
    "\n",
    "There are two solutions to this problem: `hash map` and `two pointers`.\n",
    "\n",
    "- `Hash map` keep track of each element and its position, and can find if its complement is in the table. It takes `O(n)` time and `O(n)` space.\n",
    "- `Two pointers` is neat for **sorted** array. Pointers tranverse the elements from the start and the end respectively, if the sum is larger than target, then the tail pointer needs to be smaller, and vice versa. Additional sort requires `O(nlogn)` time, and tranverse `O(n)` time.\n",
    "\n",
    "For calculating sum of more than two numbers, the problem can be reduced to 2sum by adding more pointers to fix some element for now.\n",
    "\n",
    "Note that, `while` statements required if need to avoid duplicates."
   ]
  },
  {
   "cell_type": "markdown",
   "metadata": {},
   "source": [
    "#### Two sum/3sum/4sum closest/smaller \n",
    "\n",
    "This problem is looking for two elements whose sum is **the closest** to the target, while the previous one is calculating exatcly the same number. This indicates that `Hash map` is no longer available. "
   ]
  },
  {
   "cell_type": "markdown",
   "metadata": {},
   "source": [
    "#### Triangle\n",
    "\n",
    "How to check if 3 number can form a triangle? Sum of any two sides is larger than the other one. I.e., the sum of two smaller sides should be larger than the larger side.\n",
    "\n",
    "[`Valid triangle numbers`](https://leetcode.com/problems/valid-triangle-number/description/) gives an array of number, and find all the valid triangle numbers.\n",
    "\n",
    "    ...small...|i|...<unseen>...|j|...large...|f|...\n",
    "        part 1   |     part2    |   part3 \n",
    "\n",
    "\n",
    "- Start with `O(nlogn)` sorting if needed\n",
    "- With fixed `f` pointer pointing to the larger side of triangle, `i` and `j` moving from two end points respectively, standing for the two smaller sides.\n",
    "    - if `i` and `j` is valid (sum large enough), then `i++` must be valid with `j`\n",
    "    - if `i` and `j` not valid (sum too small), then `j--` must not be valid with `i`\n",
    "   \n"
   ]
  },
  {
   "cell_type": "code",
   "execution_count": 1,
   "metadata": {
    "collapsed": true
   },
   "outputs": [],
   "source": [
    "class Solution(object):\n",
    "    def triangleNumber(self, nums):\n",
    "        \"\"\"\n",
    "        :type nums: List[int]\n",
    "        :rtype: int\n",
    "        \"\"\"\n",
    "        if len(nums) < 3:\n",
    "            return 0\n",
    "        \n",
    "        nums.sort()\n",
    "        cnt = 0\n",
    "        \n",
    "        f = len(nums)-1\n",
    "        for f in xrange(len(nums)-1, 1, -1):\n",
    "            i,j = 0, f-1\n",
    "            while i < j:\n",
    "                if nums[i] + nums[j] > nums[f]:\n",
    "                    cnt += (j - i)\n",
    "                    j -= 1\n",
    "                else:\n",
    "                    i += 1\n",
    "        return cnt"
   ]
  },
  {
   "cell_type": "markdown",
   "metadata": {},
   "source": [
    "Other two pointer problems:\n",
    "\n",
    "[`Contain most water`](https://leetcode.com/problems/container-with-most-water/description/) is a problem very similar with two sum, but with summation instead of addition. The two number for the operation are the x-axis and shorter line of `i` and `j`."
   ]
  },
  {
   "cell_type": "code",
   "execution_count": null,
   "metadata": {
    "collapsed": true
   },
   "outputs": [],
   "source": [
    "class Solution(object):\n",
    "    def maxArea(self, height):\n",
    "        \"\"\"\n",
    "        :type height: List[int], assume length > 2\n",
    "        :rtype: int\n",
    "        \"\"\"\n",
    "        i,j = 0,len(height)-1\n",
    "        \n",
    "        maximum\n",
    "        "
   ]
  }
 ],
 "metadata": {
  "kernelspec": {
   "display_name": "Python 2",
   "language": "python",
   "name": "python2"
  },
  "language_info": {
   "codemirror_mode": {
    "name": "ipython",
    "version": 2
   },
   "file_extension": ".py",
   "mimetype": "text/x-python",
   "name": "python",
   "nbconvert_exporter": "python",
   "pygments_lexer": "ipython2",
   "version": "2.7.13"
  }
 },
 "nbformat": 4,
 "nbformat_minor": 2
}
