{
 "cells": [
  {
   "cell_type": "markdown",
   "metadata": {},
   "source": [
    "# Tree"
   ]
  },
  {
   "cell_type": "markdown",
   "metadata": {},
   "source": [
    "Tree problems are always related to topics like **Binary Search Tree (BST)**, **Breath-First Search (BFS)**, **Depth-First Search (DFS)**.\n",
    "\n",
    "Most of the time, `tree` is referred as `binary tree`. But note that trees are not necessarily binary, nor necessarily balanced."
   ]
  },
  {
   "cell_type": "code",
   "execution_count": 1,
   "metadata": {
    "collapsed": true
   },
   "outputs": [],
   "source": [
    "# Definition for a binary tree node.\n",
    "class TreeNode(object):\n",
    "    def __init__(self, x):\n",
    "        self.val = x\n",
    "        self.left = None\n",
    "        self.right = None"
   ]
  },
  {
   "cell_type": "markdown",
   "metadata": {},
   "source": [
    "There is a good question to test if one understands the methods of tree tranversals -- [`Construct Binary Tree from Preorder and Inorder Traversal`](https://leetcode.com/problems/construct-binary-tree-from-preorder-and-inorder-traversal/description/) (Of course, [`Inorder and Postorder`](https://leetcode.com/problems/construct-binary-tree-from-inorder-and-postorder-traversal/description/) should give similar solution).\n",
    "Preorder shows the root at the begining, while inorder use root to seperate left and right subtrees. Then we are able to use the root from preorder to seperate left and right subree in the inorder array. Note that we need to assume **no duplicates** in the values. "
   ]
  },
  {
   "cell_type": "code",
   "execution_count": 4,
   "metadata": {
    "collapsed": true
   },
   "outputs": [],
   "source": [
    "class Solution(object):\n",
    "    def buildTree(self, preorder, inorder):\n",
    "        \"\"\"\n",
    "        :type preorder: List[int]\n",
    "        :type inorder: List[int]\n",
    "        :rtype: TreeNode\n",
    "        \"\"\"\n",
    "        if not preorder:\n",
    "            return\n",
    "        \n",
    "        root = TreeNode(preorder[0])\n",
    "        root_idx = inorder.index(preorder[0])\n",
    "        \n",
    "        root.left = self.buildTree(preorder[1:root_idx+1], inorder[:root_idx])\n",
    "        root.right = self.buildTree(preorder[root_idx+1:], inorder[root_idx+1:])\n",
    "        return root"
   ]
  },
  {
   "cell_type": "markdown",
   "metadata": {},
   "source": [
    "### Binary Search Tree\n",
    "\n",
    "BST is a special data structure case of tree. By the definition, the left subtree has value smaller than root, while the right subtree has value larger than root. This rule holds for all the node in the tree.\n",
    "\n",
    "For a balanced BST, it took `O(logn)` time (or `O(Height)`) to \n",
    "- `search`, `insert` and `delete` a node (e.g. [`Delete Node in a BST`](https://leetcode.com/problems/delete-node-in-a-bst/description/))\n",
    "- find `min`, `max` node\n",
    "- find `predecessor`, `successor` of a node\n",
    "- select `kth` value, compute `rank` of a node (e.g. [`Kth Smallest Element in a BST`](https://leetcode.com/problems/kth-smallest-element-in-a-bst/description/))\n",
    "\n",
    "And `O(n)` time to tranverse:\n",
    "- Inorder: left subtree -> root -> right subtree\n",
    "- Preorder: root -> left subtree -> right subtree\n",
    "- Postorder: right subtree -> left subtree -> root\n",
    "- Level by level: BST\n"
   ]
  },
  {
   "cell_type": "markdown",
   "metadata": {},
   "source": [
    "#### BST basic operation\n",
    "\n",
    "[`Delete Node in a BST`](https://leetcode.com/problems/delete-node-in-a-bst/description/) -- Deletion operation can be done in two steps:\n",
    "- look for the node with the key\n",
    "- Delete and preserve the BST property\n",
    "  - if no child or only one child: let child take place\n",
    "  - if Two children:"
   ]
  },
  {
   "cell_type": "code",
   "execution_count": null,
   "metadata": {
    "collapsed": true
   },
   "outputs": [],
   "source": [
    "class Solution(object):\n",
    "    def deleteNode(self, root, key):\n",
    "        \"\"\"\n",
    "        :type root: TreeNode\n",
    "        :type key: int\n",
    "        :rtype: TreeNode\n",
    "        \"\"\""
   ]
  },
  {
   "cell_type": "markdown",
   "metadata": {},
   "source": [
    "#### BST property\n",
    "[`Minimum Absolute Difference in BST`](https://leetcode.com/problems/minimum-absolute-difference-in-bst/description/) needs one to find the minimum absolute difference of any two nodes in a bst. For a node, the minimum ablolute difference should happend between itself and its predecessor or its successor. By inorder tranversal, we can access all the adjacent pair of nodes. In the `inorder` part of tranversal, we calculate if it's the minimum difference; if it's still the first number, then skip and assign that as the last number to compare."
   ]
  },
  {
   "cell_type": "code",
   "execution_count": 18,
   "metadata": {
    "collapsed": true
   },
   "outputs": [],
   "source": [
    "class Solution(object):\n",
    "    def getMinimumDifference(self, root):\n",
    "        \"\"\"\n",
    "        :type root: TreeNode\n",
    "        :rtype: int\n",
    "        \"\"\"\n",
    "        return self.inOrder(root)[-1]\n",
    "        \n",
    "    def inOrder(self, node, last=None, minDiff=None):\n",
    "        if node==None:\n",
    "            return last, minDiff\n",
    "        \n",
    "        last, minDiff = self.inOrder(node.left, last, minDiff)\n",
    "        if last != None and (minDiff==None or abs(node.val - last) < minDiff):\n",
    "            minDiff = abs(node.val - last)\n",
    "        last, minDiff = self.inOrder(node.right, node.val, minDiff) # last number is current value\n",
    "        return last, minDiff"
   ]
  },
  {
   "cell_type": "markdown",
   "metadata": {},
   "source": [
    "[`Lowest Common Ancestor of a Binary Search Tree`](https://leetcode.com/problems/lowest-common-ancestor-of-a-binary-search-tree/description/) needs one to find two nodes' common ancestor. Normally, a node of trees only have direct access to it's children. To find their ancestor, one need to start from the root. Thanks to BST's property, we know the common ancestor of two nodes should have a value in between (or equal), which guides us to select left or right subtree to find the LCA."
   ]
  },
  {
   "cell_type": "code",
   "execution_count": null,
   "metadata": {
    "collapsed": true
   },
   "outputs": [],
   "source": [
    "class Solution(object):\n",
    "    def lowestCommonAncestor(self, root, p, q):\n",
    "        \"\"\"\n",
    "        :type root: TreeNode\n",
    "        :type p: TreeNode\n",
    "        :type q: TreeNode\n",
    "        :rtype: TreeNode\n",
    "        \"\"\"\n",
    "        if root.val < min(p.val, q.val):\n",
    "            return self.lowestCommonAncestor(root.right,p,q)\n",
    "        elif root.val > max(p.val, q.val):\n",
    "            return self.lowestCommonAncestor(root.left,p, q)\n",
    "        else:\n",
    "            return root"
   ]
  },
  {
   "cell_type": "markdown",
   "metadata": {},
   "source": [
    "Follow-up: However, **without** the aid of BST, for a **regular binary tree**, how to find the LCA of two node? [`Lowest Common Ancestor of a Binary Tree`](https://leetcode.com/problems/lowest-common-ancestor-of-a-binary-tree/description/) This should be a **DFS** problem.\n",
    "\n",
    "This is one of my favorate problems. Say we have a tree as follows, and `5` and `4` are the nodes in the inputs:\n",
    "\n",
    "        1\n",
    "       / \\\n",
    "      2   3\n",
    "     / \\\n",
    "    5   4\n",
    "    \n",
    "- Case **1**: Both on the left side `->` LCA come from left subtree\n",
    "- Case **2**: One on the left, the other on the right `->` it self is the LCA\n",
    "- Case **3**: No one `->` return None"
   ]
  },
  {
   "cell_type": "code",
   "execution_count": 59,
   "metadata": {
    "collapsed": true
   },
   "outputs": [],
   "source": [
    "class Solution(object):  \n",
    "    def lowestCommonAncestor(self, node, p, q):\n",
    "        \"\"\"\n",
    "        :type root: TreeNode\n",
    "        :type p: TreeNode\n",
    "        :type q: TreeNode\n",
    "        :rtype: TreeNode\n",
    "        \"\"\"\n",
    "\n",
    "        if not node:\n",
    "            return\n",
    "        \n",
    "        left_LCA = self.lowestCommonAncestor(node.left, p, q)\n",
    "        right_LCA = self.lowestCommonAncestor(node.right, p, q)\n",
    "        \n",
    "        if (left_LCA and right_LCA) or node==p or node==q:\n",
    "            return node\n",
    "        elif right_LCA:\n",
    "            return right_LCA\n",
    "        elif left_LCA:\n",
    "            return left_LCA\n",
    "        else:\n",
    "            return None"
   ]
  },
  {
   "cell_type": "markdown",
   "metadata": {},
   "source": [
    "### Breath First Search\n",
    "\n",
    "A typical BST problem for a tree is to print node value level by level, as [`Binary Tree Level Order Traversal`](https://leetcode.com/problems/binary-tree-level-order-traversal/description/). One can use a queue to keep track of all the node by now, and keep diving into them later on until reach the end (empty queue).\n",
    "\n",
    "Note if it needs preserve the order nodes.\n",
    "\n",
    "Similar problems includes [`Average of Levels in Binary Tree`](https://leetcode.com/problems/average-of-levels-in-binary-tree/description/), [`Maximum Depth of Binary Tree`](https://leetcode.com/problems/maximum-depth-of-binary-tree/description/of), [`Minimum Depth of Binary Tree`](https://leetcode.com/problems/minimum-depth-of-binary-tree/description/)"
   ]
  },
  {
   "cell_type": "code",
   "execution_count": 2,
   "metadata": {
    "collapsed": true
   },
   "outputs": [],
   "source": [
    "class Solution(object):\n",
    "    def levelOrder(self, root):\n",
    "        \"\"\"\n",
    "        :type root: TreeNode\n",
    "        :rtype: List[List[int]]\n",
    "        \"\"\"\n",
    "        if not root:\n",
    "            return []\n",
    "        \n",
    "        curr_level = [root]\n",
    "        next_level = []\n",
    "        values = []\n",
    "        while curr_level:\n",
    "            values.append([node.val for node in curr_level])\n",
    "            for node in curr_level:\n",
    "                if node.left:\n",
    "                    next_level.append(node.left)\n",
    "                if node.right:\n",
    "                    next_level.append(node.right)\n",
    "            curr_level = next_level\n",
    "            next_level = []\n",
    "        return values"
   ]
  },
  {
   "cell_type": "markdown",
   "metadata": {},
   "source": [
    "### Depth First Search \n",
    "\n",
    "DFS is a large kind of algorithm, which can be implemented via reversion or iteration.\n",
    "\n",
    "- Recursion: \n",
    "  - Divide and Conquer: let subtree do sth and return, then combine\n",
    "  - Tranversal: visit every node and do sth at the node\n",
    "  - e.g.: [`Sum Root to Leaf Numbers`](https://leetcode.com/problems/sum-root-to-leaf-numbers/description/), [`Flatten Binary Tree to Linked List`](https://leetcode.com/problems/flatten-binary-tree-to-linked-list/description/), [`Path Sum`](https://leetcode.com/problems/path-sum/description/), [`Path Sum II`](https://leetcode.com/problems/path-sum-ii/description/), [`Path Sum III`](https://leetcode.com/problems/path-sum-iii/description/)\n",
    "- Iteration -- using `Stack`\n",
    "  - e.g.: [`Binary Tree Inorder Traversal`](https://leetcode.com/problems/binary-tree-inorder-traversal/description/), [`Binary Tree Preorder Traversal`](https://leetcode.com/problems/binary-tree-preorder-traversal/description/), [`Binary Tree Postorder Traversal`](https://leetcode.com/problems/binary-tree-postorder-traversal/description/)\n",
    "\n",
    "#### Path sum series\n",
    "\n",
    "DFS for trees are easier than other data structures, because the recursive tranversal methods are relatively fixed in a way. [`Path Sum`](https://leetcode.com/problems/path-sum/description/) asks if there is a root-to-leaf path summing to a target value, which needs `O(n)` time on average (also worst case) to return a `bool`."
   ]
  },
  {
   "cell_type": "code",
   "execution_count": null,
   "metadata": {
    "collapsed": true
   },
   "outputs": [],
   "source": [
    "class Solution(object):\n",
    "    def hasPathSum(self, root, sum):\n",
    "        \"\"\"\n",
    "        :type root: TreeNode\n",
    "        :type sum: int\n",
    "        :rtype: bool\n",
    "        \"\"\"\n",
    "        if not root:\n",
    "            return False\n",
    "        if not root.left and not root.right:\n",
    "            return sum==root.val\n",
    "        \n",
    "        leftFlag = self.hasPathSum(root.left, sum-root.val)\n",
    "        rightFlag = self.hasPathSum(root.right, sum-root.val)\n",
    "        \n",
    "        return leftFlag or rightFlag"
   ]
  },
  {
   "cell_type": "markdown",
   "metadata": {
    "collapsed": true
   },
   "source": [
    "[`Path Sum II`](https://leetcode.com/problems/path-sum-ii/description/) is not just returning a `bool` but all the paths that match the target. "
   ]
  },
  {
   "cell_type": "code",
   "execution_count": 21,
   "metadata": {
    "collapsed": true
   },
   "outputs": [],
   "source": [
    "class Solution(object):\n",
    "    def pathSum(self, root, sum):\n",
    "        \"\"\"\n",
    "        :type root: TreeNode\n",
    "        :type sum: int\n",
    "        :rtype: List[List[int]]\n",
    "        \"\"\"\n",
    "        return self.DFS(root, [], sum, [])\n",
    "        \n",
    "    def DFS(self, node, path, restSum, result):\n",
    "        if not node:\n",
    "            return result\n",
    "        if not node.left and not node.right and node.val==restSum:\n",
    "            result.append(path+[node.val])\n",
    "            return result\n",
    "        \n",
    "        result = self.DFS(node.left, path+[node.val], restSum-node.val, result)\n",
    "        result = self.DFS(node.right, path+[node.val], restSum-node.val, result)\n",
    "        \n",
    "        return result\n",
    "        "
   ]
  },
  {
   "cell_type": "markdown",
   "metadata": {
    "collapsed": true
   },
   "source": [
    "[`Path Sum III`](https://leetcode.com/problems/path-sum-iii/description/) looses the restriction of root-to-leave path but any paths going downstream. This assumption actually make the space much bigger than previous, and it's too complecated and trivial to calculate all the subpaths.\n",
    "\n",
    "Recall `subarray sum` problem to a target, we use a `prefix sum` taking `O(n)` space to help calculation. "
   ]
  },
  {
   "cell_type": "code",
   "execution_count": null,
   "metadata": {
    "collapsed": true
   },
   "outputs": [],
   "source": [
    "class Solution(object):\n",
    "    def pathSum(self, root, sum):\n",
    "        \"\"\"\n",
    "        :type root: TreeNode\n",
    "        :type sum: int\n",
    "        :rtype: int\n",
    "        \"\"\"\n",
    "        return self.DFS(root, sum, [0], 0)\n",
    "        \n",
    "    def DFS(self, node, sum, prefixSum, cnt):\n",
    "        if not node:\n",
    "            return cnt\n",
    "        \n",
    "        # for current node\n",
    "        curr_sum = prefixSum[-1] + node.val\n",
    "        for i in prefixSum:\n",
    "            if curr_sum - i == sum:\n",
    "                cnt += 1\n",
    "                \n",
    "        cnt = self.DFS(node.left, sum, prefixSum+[curr_sum], cnt)\n",
    "        cnt = self.DFS(node.right, sum, prefixSum+[curr_sum], cnt)\n",
    "        \n",
    "        return cnt"
   ]
  },
  {
   "cell_type": "markdown",
   "metadata": {},
   "source": [
    "### Iterative algorithm \n",
    "\n",
    "[`Binary Tree Inorder Traversal`](https://leetcode.com/problems/binary-tree-inorder-traversal/description/) by only iterative search"
   ]
  },
  {
   "cell_type": "code",
   "execution_count": 30,
   "metadata": {
    "collapsed": true
   },
   "outputs": [],
   "source": [
    "class Solution(object):\n",
    "    def inorderTraversal(self, root):\n",
    "        \"\"\"\n",
    "        :type root: TreeNode\n",
    "        :rtype: List[int]\n",
    "        \"\"\"\n",
    "        if not root:\n",
    "            return []\n",
    "        \n",
    "        stack = [root]\n",
    "        result = []\n",
    "        while stack:\n",
    "            node = stack.pop()\n",
    "            if node == None:\n",
    "                continue\n",
    "            elif isinstance(node, int):\n",
    "                result.append(node)\n",
    "            else:\n",
    "                stack.append(node.right)\n",
    "                stack.append(node.val)\n",
    "                stack.append(node.left)\n",
    "        return result"
   ]
  },
  {
   "cell_type": "markdown",
   "metadata": {},
   "source": [
    "Tree in the [**`Binary Tree Upside Down`**](https://leetcode.com/problems/binary-tree-upside-down/description/) is a tree where all the right nodes are either leaf nodes with a sibling (a left node that shares the same parent node) or empty. Flip it upside down and turn it into a tree where the original right nodes turned into left leaf nodes. Return the new root.\n",
    "\n",
    "        1       BEFORE              4        AFTER\n",
    "       / \\                         / \\\n",
    "      2   3             ==>       5   2\n",
    "     / \\                             / \\\n",
    "    4   5                           3   1 \n",
    "    \n"
   ]
  },
  {
   "cell_type": "code",
   "execution_count": null,
   "metadata": {
    "collapsed": true
   },
   "outputs": [],
   "source": [
    "class Solution(object):\n",
    "    def upsideDownBinaryTree(self, root):\n",
    "        \"\"\"\n",
    "        :type root: TreeNode\n",
    "        :rtype: TreeNode\n",
    "        \"\"\"\n",
    "        if not root or (not root.left and not root.right):\n",
    "            return root\n",
    "        \n",
    "        left = self.upsideDownBinaryTree(root.left)\n",
    "        right = self.upsideDownBinaryTree(root.right)\n",
    "        \n",
    "        new_root = left\n",
    "        ## attach to rightmost\n",
    "        ptr = new_root\n",
    "        while ptr.right:\n",
    "            ptr = ptr.right\n",
    "        ptr.right = root\n",
    "        ## attach to leftmost\n",
    "        ptr = new_root\n",
    "        while ptr.left:\n",
    "            ptr = ptr.left\n",
    "        ptr.left = right\n",
    "        \n",
    "        return root"
   ]
  },
  {
   "cell_type": "markdown",
   "metadata": {},
   "source": [
    "[`Binary Tree Preorder Traversal`](https://leetcode.com/problems/binary-tree-preorder-traversal/description/)"
   ]
  },
  {
   "cell_type": "code",
   "execution_count": 37,
   "metadata": {
    "collapsed": true
   },
   "outputs": [],
   "source": [
    "class Solution(object):\n",
    "    def preorderTraversal(self, root):\n",
    "        \"\"\"\n",
    "        :type root: TreeNode\n",
    "        :rtype: List[int]\n",
    "        \"\"\"\n",
    "        if not root:\n",
    "            return []\n",
    "        \n",
    "        stack = [root]\n",
    "        result = []\n",
    "        while stack:\n",
    "            node = stack.pop()\n",
    "            result.append(node.val)\n",
    "            \n",
    "            if node.right:    \n",
    "                stack.append(node.right)\n",
    "            if node.left:\n",
    "                stack.append(node.left)\n",
    "        return result"
   ]
  },
  {
   "cell_type": "markdown",
   "metadata": {},
   "source": [
    "[`Binary Tree Postorder Traversal`](https://leetcode.com/problems/binary-tree-postorder-traversal/description/)"
   ]
  },
  {
   "cell_type": "code",
   "execution_count": 39,
   "metadata": {
    "collapsed": true
   },
   "outputs": [],
   "source": [
    "class Solution(object):\n",
    "    def postorderTraversal(self, root):\n",
    "        \"\"\"\n",
    "        :type root: TreeNode\n",
    "        :rtype: List[int]\n",
    "        \"\"\"\n",
    "        if not root:\n",
    "            return []\n",
    "        \n",
    "        stack = [root]\n",
    "        result = []\n",
    "        while stack:\n",
    "            node = stack.pop()\n",
    "            if node == None:\n",
    "                continue\n",
    "            elif isinstance(node, int):\n",
    "                result.append(node)\n",
    "            else:\n",
    "                stack.append(node.val)\n",
    "                stack.append(node.right)\n",
    "                stack.append(node.left)\n",
    "        return result"
   ]
  },
  {
   "cell_type": "code",
   "execution_count": null,
   "metadata": {
    "collapsed": true
   },
   "outputs": [],
   "source": []
  }
 ],
 "metadata": {
  "kernelspec": {
   "display_name": "Python 2",
   "language": "python",
   "name": "python2"
  },
  "language_info": {
   "codemirror_mode": {
    "name": "ipython",
    "version": 2
   },
   "file_extension": ".py",
   "mimetype": "text/x-python",
   "name": "python",
   "nbconvert_exporter": "python",
   "pygments_lexer": "ipython2",
   "version": "2.7.13"
  }
 },
 "nbformat": 4,
 "nbformat_minor": 2
}
