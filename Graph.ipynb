{
 "cells": [
  {
   "cell_type": "markdown",
   "metadata": {},
   "source": [
    "# Graph\n",
    "\n",
    "`V` stands for vertice (node), and `E` stands for edge (pair of nodes). Say we have `n` nodes and `m` edges.\n",
    "\n",
    "### Dense vs Sparse\n",
    "\n",
    "1. **sparse**: at least `m = n-1 = O(n)`, which is a tree\n",
    "2. **dense**: at most `m = n(n-1)/2 = O(n^2)`, whish is fully-connected\n",
    "\n",
    "\n",
    "\n",
    "### Graph representation\n",
    "\n",
    "1. **Adjacent Matrix**: `O(nm)` space, `Aij` --> node `i` and node `j` has edge/weight/number of edges\n",
    "2. **Adjacent list**: `O(n+m)` space\n",
    "    - list of `V`\n",
    "    - list of `E`\n",
    "    - Points to endpoint of `E`: `E -> V`\n",
    "    - `V` points to edges incident on it: `V -> E`\n",
    "    \n",
    "### Algorithms\n",
    "\n",
    "1. **BFS**\n",
    "    1. Shortest path for simple graph\n",
    "    2. Undirected connectivity\n",
    "    3. Deep copy graph\n",
    "2. **DFS**\n",
    "    1. Topological sort\n",
    "    2. Strong connected components (SCC) for directed graphs\n",
    "3. **Dijkstra**'s shortest-path\n",
    "4. Minimum spanning tree -- **greedy**\n",
    "    1. Prim's algo\n",
    "    2. Kruskal's algo"
   ]
  },
  {
   "cell_type": "code",
   "execution_count": 1,
   "metadata": {
    "collapsed": true
   },
   "outputs": [],
   "source": [
    "# Definition for a undirected graph node\n",
    "class UndirectedGraphNode:\n",
    "    def __init__(self, x):\n",
    "        self.label = x\n",
    "        self.neighbors = []"
   ]
  },
  {
   "cell_type": "markdown",
   "metadata": {},
   "source": [
    "## BFS"
   ]
  },
  {
   "cell_type": "markdown",
   "metadata": {},
   "source": [
    "[**`Clone Graph`**](https://leetcode.com/problems/clone-graph/description/): clone an undirected graph representing as `{0,1,2#1,2#2,2}`, seperated by `#`.\n",
    "\n",
    "         1\n",
    "        / \\\n",
    "       /   \\\n",
    "      /     \\   __\n",
    "     /       \\ /  \\\n",
    "    0 ------- 2   |\n",
    "               \\__/"
   ]
  },
  {
   "cell_type": "code",
   "execution_count": null,
   "metadata": {
    "collapsed": true
   },
   "outputs": [],
   "source": [
    "class Solution:\n",
    "    # @param node, a undirected graph node\n",
    "    # @return a undirected graph node\n",
    "    def cloneGraph(self, node):\n",
    "        # find all nodes in a list\n",
    "        nodes = self.BFS(node)\n",
    "        # copy nodes\n",
    "        mapping = {n:UndirectedGraphNode(n.label) for n in nodes}\n",
    "        # copy edges\n",
    "        for this_node in mapping:\n",
    "            for nei in this_node.neighbors:\n",
    "                if mapping[nei] not in mapping[this_node].neighbors:\n",
    "                     mapping[this_node].neighbors.append(mapping[nei])\n",
    "                        \n",
    "        return mapping[node]\n",
    "        \n",
    "    def BFS(self, node):\n",
    "        hashset = {node:1}\n",
    "        this_level = [node]\n",
    "        next_level = {}\n",
    "        while this_level:\n",
    "            for curr_node in this_level:\n",
    "                for nei in curr_node.neighbors:\n",
    "                    if not nei in hashset:\n",
    "                        hashset[nei] = 1\n",
    "                    if not nei in next_level:\n",
    "                        next_level[nei] = 1\n",
    "            this_level = next_level.keys()\n",
    "            next_level = {}\n",
    "        return hashset.keys()"
   ]
  },
  {
   "cell_type": "markdown",
   "metadata": {},
   "source": [
    "Undirected connectivity is usually reflected as \"blocks in images\" or \"islands in the sea.\"\n",
    "\n",
    "[**`Number of Islands`**](https://leetcode.com/problems/number-of-islands/description/) requires to answer how many components in the map. One can use BFS in a `for loop` fashion, stop untill all the \"land\" is visited."
   ]
  },
  {
   "cell_type": "code",
   "execution_count": null,
   "metadata": {
    "collapsed": true
   },
   "outputs": [],
   "source": [
    "class Solution(object):\n",
    "    def numIslands(self, grid):\n",
    "        \"\"\"\n",
    "        :type grid: List[List[str]]\n",
    "        :rtype: int\n",
    "        \"\"\""
   ]
  },
  {
   "cell_type": "markdown",
   "metadata": {},
   "source": [
    "## DFS"
   ]
  },
  {
   "cell_type": "markdown",
   "metadata": {},
   "source": [
    "## Dijkstra\n",
    "\n",
    "- Input: Directed graph `G = (V, E)` with **non-negative** \n",
    "- Output: for each node, compute the shortest path\n",
    "- Goal: Solves single source directed graph, positive cost, minimum path problem.\n",
    "- Suedo code:\n",
    "\n",
    "\n",
    "    while not yet processed all nodes:\n",
    "        among crossing edges, choose one minimize A[v] + lvw\n",
    "        mark w processed\n",
    "\n"
   ]
  },
  {
   "cell_type": "markdown",
   "metadata": {},
   "source": [
    "## Greedy -- minimum spanning tree\n",
    "\n",
    "- Goal: connect a bunch of points as cheeply as possible\n",
    "- Input: is a *connected* graph `G = (V, E)`, associating with *cost* of each edge.\n",
    "- Output: Minimum cost spanning tree `T` belonging to `E` set. `T` should connect all the nodes with *no* cycle (Avoid negative cost cycle).\n",
    "\n",
    "### Prim's algo\n",
    "\n",
    "- Find cheapest edge **in the crossing edges** each time. (The crossing edges are between \"explored\" and \"unexplored\" set)\n",
    "- Until all vertices visited.\n",
    "\n",
    "\n",
    "### Kruskal's algo\n",
    "\n",
    "- Find cheapest edge **overall** each time. Cycle not allowed."
   ]
  },
  {
   "cell_type": "code",
   "execution_count": null,
   "metadata": {
    "collapsed": true
   },
   "outputs": [],
   "source": []
  }
 ],
 "metadata": {
  "kernelspec": {
   "display_name": "Python 2",
   "language": "python",
   "name": "python2"
  },
  "language_info": {
   "codemirror_mode": {
    "name": "ipython",
    "version": 2
   },
   "file_extension": ".py",
   "mimetype": "text/x-python",
   "name": "python",
   "nbconvert_exporter": "python",
   "pygments_lexer": "ipython2",
   "version": "2.7.13"
  }
 },
 "nbformat": 4,
 "nbformat_minor": 2
}
