{
 "cells": [
  {
   "cell_type": "markdown",
   "metadata": {},
   "source": [
    "# Bit Manipulation\n",
    "\n",
    "### Bit operation\n",
    "- `~` complement number\n",
    "- `&` and \n",
    "- `|` or \n",
    "- `^` xor\n",
    "- `<<` or `>>` bit shift\n",
    "\n",
    "### Binary representation\n",
    "- `int` to `binary`: `bin()`\n",
    "- `binary` to `int`: `int(x, 2)`\n",
    "\n",
    "### Bit tricks\n",
    "- `n&(n-1)` to eliminate the last `1` in `n`\n",
    "- `<<1` equals `/2`, `>>1` equals `*2`\n",
    "- `xor`: `a^a=0` and `0^a=a`\n",
    "- `bitmap` saves space\n",
    "- Mask trick: set `0`, set `1`.\n"
   ]
  },
  {
   "cell_type": "markdown",
   "metadata": {},
   "source": [
    "[**`Number of 1 Bits`**](https://leetcode.com/problems/number-of-1-bits/description/) requires one to calculate how many bit 1 in the *unsigned* number. For example, number `58` can be represented in binary as `111010`, which has `4` bit 1s.\n",
    "\n",
    "- Intuitively, we check every bit if they are `1`. We use a mask started from the rightmost bit to check.\n",
    "- However, if we use the first trick: `n&n-1` can remove the rightmost bit `1`, we can reduce the time to `O(number of bit 1)`"
   ]
  },
  {
   "cell_type": "code",
   "execution_count": 22,
   "metadata": {
    "collapsed": true
   },
   "outputs": [],
   "source": [
    "# O(n) solution\n",
    "class Solution(object):\n",
    "    def hammingWeight(self, n):\n",
    "        \"\"\"\n",
    "        :type n: int\n",
    "        :rtype: int\n",
    "        \"\"\"\n",
    "        mask = 1\n",
    "        cnt = 0\n",
    "        for i in range(32):\n",
    "            if mask & n:\n",
    "                cnt += 1\n",
    "            mask <<= 1\n",
    "        return cnt\n",
    "    \n",
    "class Solution(object):\n",
    "    def hammingWeight(self, n):\n",
    "        \"\"\"\n",
    "        :type n: int\n",
    "        :rtype: int\n",
    "        \"\"\"\n",
    "        cnt = 0\n",
    "        while n:\n",
    "            n = n&(n-1)\n",
    "            cnt += 1\n",
    "        return cnt"
   ]
  },
  {
   "cell_type": "markdown",
   "metadata": {},
   "source": [
    "[**`Power of Two`**](https://leetcode.com/problems/power-of-two/description/) is a hard problem in decimal number domain. But check if a number is power of 10 is much easier for decimals. They are the same: only one non-zero bit."
   ]
  },
  {
   "cell_type": "code",
   "execution_count": null,
   "metadata": {
    "collapsed": true
   },
   "outputs": [],
   "source": [
    "class Solution(object):\n",
    "    def isPowerOfTwo(self, n):\n",
    "        \"\"\"\n",
    "        :type n: int\n",
    "        :rtype: bool\n",
    "        \"\"\"\n",
    "        return False if n&(n-1) else: true"
   ]
  },
  {
   "cell_type": "markdown",
   "metadata": {},
   "source": [
    "Same as [**`Power of Four`**](https://leetcode.com/problems/power-of-four/description/). Not only the number contains only one non-zero bit, but the trailing zeros should be even.\n",
    "\n",
    "- Of course, the loop solution always works.\n",
    "- One can "
   ]
  },
  {
   "cell_type": "code",
   "execution_count": 46,
   "metadata": {},
   "outputs": [],
   "source": [
    "class Solution(object):\n",
    "    def isPowerOfFour(self, num):\n",
    "        \"\"\"\n",
    "        :type num: int\n",
    "        :rtype: bool\n",
    "        \"\"\"\n",
    "        if num < 0 or num&(num-1):\n",
    "            return False\n",
    "        \n",
    "        n = num\n",
    "        num_of_zero = 0\n",
    "        while n:\n",
    "            n >>= 1\n",
    "            if n: \n",
    "                num_of_zero += 1\n",
    "            else:\n",
    "                break\n",
    "        return True if num_of_zero%2==0 else False"
   ]
  },
  {
   "cell_type": "markdown",
   "metadata": {},
   "source": [
    "#### Bitmap\n",
    "\n",
    "Let's see how to use a single number as a bitmap to save space.\n",
    "\n",
    "[**`Missing Number`**](https://leetcode.com/problems/missing-number/description/) needs one to find out the only one missing number of `0, 1, ..., n`"
   ]
  },
  {
   "cell_type": "code",
   "execution_count": 50,
   "metadata": {
    "collapsed": true
   },
   "outputs": [],
   "source": [
    "class Solution(object):\n",
    "    def missingNumber(self, nums):\n",
    "        \"\"\"\n",
    "        :type nums: List[int]\n",
    "        :rtype: int\n",
    "        \"\"\"\n",
    "        n = len(nums)\n",
    "        mapping = 0\n",
    "        for n in nums:\n",
    "            mapping |= 1<<(n)\n",
    "            \n",
    "        target = 0\n",
    "        mask = 1\n",
    "        while 1:\n",
    "            if mapping & mask == 0:\n",
    "                return target\n",
    "            else:\n",
    "                mask <<= 1\n",
    "                target += 1\n",
    "        \n"
   ]
  },
  {
   "cell_type": "markdown",
   "metadata": {},
   "source": []
  }
 ],
 "metadata": {
  "kernelspec": {
   "display_name": "Python 2",
   "language": "python",
   "name": "python2"
  },
  "language_info": {
   "codemirror_mode": {
    "name": "ipython",
    "version": 2
   },
   "file_extension": ".py",
   "mimetype": "text/x-python",
   "name": "python",
   "nbconvert_exporter": "python",
   "pygments_lexer": "ipython2",
   "version": "2.7.13"
  }
 },
 "nbformat": 4,
 "nbformat_minor": 2
}
