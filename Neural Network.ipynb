{
 "cells": [
  {
   "cell_type": "markdown",
   "metadata": {},
   "source": [
    "# Neural Network"
   ]
  },
  {
   "cell_type": "code",
   "execution_count": 1,
   "metadata": {
    "collapsed": true
   },
   "outputs": [],
   "source": [
    "import numpy as np\n",
    "import math"
   ]
  },
  {
   "cell_type": "markdown",
   "metadata": {},
   "source": [
    "### MLP\n",
    "\n",
    "implement a simple MLP with one or two layers\n",
    "\n",
    "    input         (b) ( )  ( )  ( )\n",
    "           \n",
    "    hidden  (b)  ( )  ( )  ( )  ( )  ( )\n",
    "    \n",
    "    output              ( )"
   ]
  },
  {
   "cell_type": "code",
   "execution_count": 3,
   "metadata": {
    "collapsed": true
   },
   "outputs": [],
   "source": [
    "iters = 5\n",
    "n_hidden = 5\n",
    "lr = 0.001\n",
    "\n",
    "X = np.array([[0,0,1],\n",
    "              [0,1,1],\n",
    "              [1,0,1],\n",
    "              [1,1,1]])\n",
    "y = np.array([[0],\n",
    "              [1],\n",
    "              [1],\n",
    "              [0]])\n",
    "\n",
    "## data preproccessing\n",
    "n_data_x, n_feature = X.shape()\n",
    "n_data_y, n_output = y.shape()\n",
    "assert n_data_x == n_data_y, 'X and y dimension do not match'\n",
    "\n",
    "\n",
    "\n",
    "\n",
    "    "
   ]
  },
  {
   "cell_type": "code",
   "execution_count": null,
   "metadata": {
    "collapsed": true
   },
   "outputs": [],
   "source": [
    "def sigmoid(x):\n",
    "    return 1./(1+np.exp(-x))\n",
    "\n",
    "def sigmoid_de(x):\n",
    "    return sigmoid(x)*(1-sigmoid)"
   ]
  },
  {
   "cell_type": "code",
   "execution_count": null,
   "metadata": {
    "collapsed": true
   },
   "outputs": [],
   "source": [
    "# initialization\n",
    "w1_init = np.random.random((n_feature, n_hidden)) - .5\n",
    "w2_init = np.random.random((n_hidden, n_output)) - .5\n",
    "bias1_init = np.zeros((1, n_hidden))\n",
    "bias2_init = np.zeros((1, n_output))\n",
    "\n",
    "# iteration\n",
    "for iter in range(iters):\n",
    "    l1 = (w1 * X) + b1\n",
    "    l2 = w2 * sigmoid(l1) + b2\n",
    "    \n",
    "    error = y-l2\n",
    "    delta_l2 = error * sigmoid(l1)"
   ]
  },
  {
   "cell_type": "markdown",
   "metadata": {},
   "source": [
    "## Convolutional"
   ]
  },
  {
   "cell_type": "code",
   "execution_count": 2,
   "metadata": {
    "collapsed": true
   },
   "outputs": [],
   "source": [
    "def conv(image, kernels, padding, stride):\n",
    "    \"\"\"\n",
    "    image: ndarray [h, w, c]\n",
    "    kernels: [n, kh, kw, c]\n",
    "    padding: int\n",
    "    stride: int\n",
    "    \"\"\"\n",
    "    if padding>0:\n",
    "        image = pad(image,padding)\n",
    "    \n",
    "    h, w, image_c = image.shape()\n",
    "    n, kh, kw, kernel_c = kernels.shape()\n",
    "    assert image_c == kernel_c, \"image channel doesn't match kernel channel number\"\n",
    "    \n",
    "    conv_h = (h + 2 * padding) / stride + 1\n",
    "    conv_w = (w + 2 * padding) / stride + 1\n",
    "    conv_c = n\n",
    "    output = np.zeros((conv_h, conv_w, conv_c))\n",
    "    for k in conv_c:\n",
    "        for i in conv_h:\n",
    "            for j in conv_w:\n",
    "                output[i,j,k] = np.dot(kernel[k,:,:,:], image[i:i+kh, j+kw, :])\n",
    "    return output\n",
    "    \n",
    "    \n",
    "def pad(image, padding):\n",
    "    \"\"\"\n",
    "    padding with positive number\n",
    "    \"\"\"\n",
    "    h, w, c = image.shape()\n",
    "    output = np.zeros((h+2*padding, w+2*padding, c))\n",
    "    output[padding:padding+h, padding:padding+w, :] = image\n",
    "    return output"
   ]
  },
  {
   "cell_type": "code",
   "execution_count": 7,
   "metadata": {
    "collapsed": true
   },
   "outputs": [],
   "source": [
    "def maxpool(input, padding, stride):\n",
    "    \"\"\"\n",
    "    \n",
    "    \"\"\"\n",
    "    \n",
    "    return output, location"
   ]
  },
  {
   "cell_type": "code",
   "execution_count": null,
   "metadata": {
    "collapsed": true
   },
   "outputs": [],
   "source": []
  }
 ],
 "metadata": {
  "kernelspec": {
   "display_name": "Python 2",
   "language": "python",
   "name": "python2"
  },
  "language_info": {
   "codemirror_mode": {
    "name": "ipython",
    "version": 2
   },
   "file_extension": ".py",
   "mimetype": "text/x-python",
   "name": "python",
   "nbconvert_exporter": "python",
   "pygments_lexer": "ipython2",
   "version": "2.7.13"
  }
 },
 "nbformat": 4,
 "nbformat_minor": 2
}
