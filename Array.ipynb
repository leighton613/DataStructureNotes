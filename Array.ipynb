{
 "cells": [
  {
   "cell_type": "markdown",
   "metadata": {},
   "source": [
    "# Array\n",
    "\n",
    "There can be unlimited transformations of array-related problems."
   ]
  },
  {
   "cell_type": "markdown",
   "metadata": {},
   "source": [
    "## Binary Search\n",
    "\n",
    "The basis of binary search is **sorted array**. That is the point to cut in the middle.\n",
    "\n",
    "Binary search can have multiple different applications:\n",
    "1. **Any/first/last** \n",
    "2. **Divide aaabbb**: array can be divided into two parts by some constraints, and the target is usually the last `a` or the first `b`. The condiditon is till judging if `mid` number falls into which category.\n",
    "2. **Discard useless**"
   ]
  },
  {
   "cell_type": "markdown",
   "metadata": {},
   "source": [
    "Here is a typical problem: [**`Search for a Range`**](https://leetcode.com/problems/search-for-a-range/description/). That is, find the first and the last position using binary search in `O(logn)`."
   ]
  },
  {
   "cell_type": "code",
   "execution_count": 117,
   "metadata": {
    "collapsed": true
   },
   "outputs": [],
   "source": [
    "class Solution(object):\n",
    "    def searchRange(self, nums, target):\n",
    "        \"\"\"\n",
    "        :type nums: List[int]\n",
    "        :type target: int\n",
    "        :rtype: List[int]\n",
    "        \"\"\"\n",
    "        if not nums or target>nums[-1] or target<nums[0]:\n",
    "            return [-1, -1]\n",
    "        \n",
    "        ## find first\n",
    "        start, end = 0, len(nums)-1\n",
    "        while start + 1 < end:\n",
    "            mid = (start + end)/2\n",
    "            if nums[mid] < target:\n",
    "                start = mid\n",
    "            else:\n",
    "                end = mid\n",
    "        \n",
    "        if nums[start]==target or nums[end]== target:\n",
    "            range_start = start if nums[start]==target else end\n",
    "        else:\n",
    "            range_start = -1\n",
    "        \n",
    "        ## find last\n",
    "        start, end = 0, len(nums)-1\n",
    "        while start + 1 < end:\n",
    "            mid = (start + end)/2\n",
    "            if nums[mid] > target:\n",
    "                end = mid\n",
    "            else:\n",
    "                start = mid\n",
    "        if nums[end]==target or nums[start]==target:\n",
    "            range_end = end if nums[end]==target else start\n",
    "        else:\n",
    "            range_end = -1\n",
    "        \n",
    "        return [range_start, range_end]"
   ]
  },
  {
   "cell_type": "markdown",
   "metadata": {},
   "source": [
    "[**`Intersection of Two Arrays`**](https://leetcode.com/problems/intersection-of-two-arrays/description/) and [**`Intersection of Two Arrays II`**](https://leetcode.com/problems/intersection-of-two-arrays-ii/description/) want one to find out the same elements they share. Only difference lies the former one needs deduplication. A **brute force** search requires `O(mn)` time, which shows a hint that it might be efficient to use sort.\n",
    "\n",
    "1. For the *de-duplication* methods:\n",
    "\n",
    "|Methods|Time|Space|Note (assume `m<n`)|\n",
    "| :--:  | :-:| :-: |:--|\n",
    "|**Sort both arrays + merge**| `O(mlogm + nlogn + m +n)` | `O(1)`| Similar to the last step of merge sort|\n",
    "|**Hash map + hash search**| `O(m + n)` | `O(m)`|Keep the small array in hash map, and search if another in it.\n",
    "|**Sort one array + binary search**| `O((m+n)logm)` | `O(1)`|Sort the small one array, and binary search if the other in it|\n",
    "\n",
    "2. For the *keep-duplicates* method:\n",
    "The first two methods still work.\n",
    "    - **Sort both arrays + merge**\n",
    "    - **Hash map + hash search**: hash map keeps track of the number of appearance. "
   ]
  },
  {
   "cell_type": "code",
   "execution_count": 3,
   "metadata": {
    "collapsed": true
   },
   "outputs": [],
   "source": [
    "class Solution(object):\n",
    "    def intersect(self, nums1, nums2):\n",
    "        \"\"\"\n",
    "        :type nums1: List[int]\n",
    "        :type nums2: List[int]\n",
    "        :rtype: List[int]\n",
    "        \"\"\"\n",
    "        n1, n2 = len(nums1), len(nums2)\n",
    "        if n1 < n2:\n",
    "            small_num, small_len = nums1, n1\n",
    "            large_num, large_len = nums2, n2\n",
    "        else:\n",
    "            small_num, small_len = nums2, n2\n",
    "            large_num, large_len = nums1, n1\n",
    "            \n",
    "        # hash map\n",
    "        intersect = []\n",
    "        count = {}\n",
    "        for num in small_num:\n",
    "            count[num] = count.get(num, 0) + 1\n",
    "        for num in large_num:\n",
    "            cnt = count.get(num,0)\n",
    "            if cnt > 0:\n",
    "                intersect.append(num)\n",
    "                count[num] = cnt - 1\n",
    "                \n",
    "        return intersect"
   ]
  },
  {
   "cell_type": "markdown",
   "metadata": {},
   "source": [
    "[**`Find Peak Element`**](https://leetcode.com/problems/find-peak-element/description/)"
   ]
  },
  {
   "cell_type": "code",
   "execution_count": 51,
   "metadata": {
    "collapsed": true
   },
   "outputs": [],
   "source": [
    "# O(n)\n",
    "class Solution(object):\n",
    "    def findPeakElement(self, nums):\n",
    "        \"\"\"\n",
    "        :type nums: List[int]\n",
    "        :rtype: int\n",
    "        \"\"\"\n",
    "        if not nums:\n",
    "            return None\n",
    "        \n",
    "        for i in range(len(nums)):\n",
    "            if i== 0:\n",
    "                if i == len(nums)-1 or nums[i] > nums[i+1]:\n",
    "                    return i\n",
    "            elif i == len(nums)-1:\n",
    "                if nums[i] > nums[i-1]:\n",
    "                    return i\n",
    "            else:\n",
    "                if nums[i] > nums[i-1] and nums[i] > nums[i+1]:\n",
    "                    return i\n",
    "                \n",
    "        return None"
   ]
  },
  {
   "cell_type": "markdown",
   "metadata": {},
   "source": [
    "**Rotated sorted array** is a kind of arrays that contains sorted array. A typical visualization shows (the special case is sorted array itself):\n",
    "\n",
    "          6 |\n",
    "       5    |\n",
    "    4       | \n",
    "    ------------------\n",
    "            |       3\n",
    "            |    2\n",
    "            | 1\n",
    "            \n",
    "[`Rotate Array`](https://leetcode.com/problems/rotate-array/description/) needs one to rotate an array towards right *in-place*.\n",
    "- **3 inversions** `O(n)` : [1,2,3,4,5,6] --> [2,1,6,5,4,3] --> [3,4,5,6,1,2]\n",
    "- **pop and insert** `O(kn)`: [1,2,3,4,5,6] --> [6,1,2,3,4,5] --> [5,6,1,2,3,4] --> [4,5,6,1,2,3] --> [3,4,5,6,1,2]"
   ]
  },
  {
   "cell_type": "code",
   "execution_count": 82,
   "metadata": {
    "collapsed": true
   },
   "outputs": [],
   "source": [
    "class Solution(object):\n",
    "    def rotate(self, nums, k):\n",
    "        \"\"\"\n",
    "        :type nums: List[int]\n",
    "        :type k: int\n",
    "        :rtype: void Do not return anything, modify nums in-place instead.\n",
    "        \"\"\"\n",
    "        \n",
    "        if len(nums)<=1:\n",
    "            return nums\n",
    "        k = k % len(nums)\n",
    "        if len(nums)==k:\n",
    "            return nums\n",
    "        \n",
    "        def reverse(start, end):\n",
    "            while start < end:\n",
    "                nums[start], nums[end] = nums[end], nums[start]\n",
    "                start += 1\n",
    "                end -= 1\n",
    "                \n",
    "        \n",
    "        reverse(0, len(nums)-k-1 )\n",
    "        reverse(len(nums)-k, len(nums)-1)\n",
    "        reverse(0, len(nums)-1)\n",
    "        print nums"
   ]
  },
  {
   "cell_type": "markdown",
   "metadata": {},
   "source": [
    "[**`Find Minimum in Rotated Sorted Array`**](https://leetcode.com/problems/find-minimum-in-rotated-sorted-array/description/) provides a rotated sorted array (acsending order) which does not contain any duplicates. The target is `1`.\n",
    "\n",
    "\n",
    "          6 |                 a special case:\n",
    "       5    |                                6\n",
    "    4       |                             5\n",
    "    ------------------                 4\n",
    "            |       3               3\n",
    "            |    2               2\n",
    "            | 1*              1*\n",
    "            \n",
    "`O(n)` solution is trivial. Binary search guarantees a `O(logn)` solution.\n",
    "\n",
    "*Hint: elements that we can easily access to are the first and the last* "
   ]
  },
  {
   "cell_type": "code",
   "execution_count": 84,
   "metadata": {
    "collapsed": true
   },
   "outputs": [],
   "source": [
    "class Solution(object):\n",
    "    def findMin(self, nums):\n",
    "        \"\"\"\n",
    "        :type nums: List[int]\n",
    "        :rtype: int\n",
    "        \"\"\"\n",
    "        if not nums: return None\n",
    "        elif len(nums) == 1: return nums[0]\n",
    "        \n",
    "        start, end = 0, len(nums)-1\n",
    "        while start + 1 < end:\n",
    "            mid = start + (end - start) / 2\n",
    "            if nums[mid] > nums[-1]: # left\n",
    "                start = mid\n",
    "            else:\n",
    "                end = mid\n",
    "        return min(nums[start], nums[end])"
   ]
  },
  {
   "cell_type": "markdown",
   "metadata": {},
   "source": [
    "[**`Find Minimum in Rotated Sorted Array II`**](https://leetcode.com/problems/find-minimum-in-rotated-sorted-array-ii/description/) contains duplicates, and still return the minimum elements. Actually, it's to return *First* minima instead of *any*, because you won't know if it's the 'any'."
   ]
  },
  {
   "cell_type": "code",
   "execution_count": 111,
   "metadata": {
    "collapsed": true
   },
   "outputs": [],
   "source": [
    "class Solution(object):\n",
    "    def findMin(self, nums):\n",
    "        \"\"\"\n",
    "        :type nums: List[int]\n",
    "        :rtype: int\n",
    "        \"\"\"\n",
    "        if not nums: return\n",
    "        if len(nums)==1: return nums[0]\n",
    "        \n",
    "        start, end = 0, len(nums)-1\n",
    "        while start + 1 < end:\n",
    "            mid = start + (end - start) / 2\n",
    "            if nums[mid] == nums[end]:\n",
    "                end -= 1\n",
    "            elif nums[mid] > nums[end]:\n",
    "                start = mid\n",
    "            else:\n",
    "                end = mid\n",
    "                \n",
    "        return min(nums[start], nums[end])\n",
    "                "
   ]
  },
  {
   "cell_type": "markdown",
   "metadata": {},
   "source": [
    "[**`Search in Rotated Sorted Array`**](https://leetcode.com/problems/search-in-rotated-sorted-array/description/) is the best practice for binary search.\n",
    "\n",
    "- Brute force: `O(n)` time\n",
    "- 2 binary search: `O(nlogn)` time, find minimum first (exactly as the problem above), and then search the number in one of the subarray\n",
    "- 1 binary search: `O(nlogn)` time, find minimum & search for the number at the same time"
   ]
  },
  {
   "cell_type": "code",
   "execution_count": 2,
   "metadata": {},
   "outputs": [],
   "source": [
    "class Solution(object):\n",
    "    def search(self, nums, target):\n",
    "        \"\"\"\n",
    "        :type nums: List[int]\n",
    "        :type target: int\n",
    "        :rtype: int\n",
    "        \"\"\"\n",
    "        if not nums:\n",
    "            return -1\n",
    "        \n",
    "        start = 0\n",
    "        end = len(nums)-1\n",
    "        while start+1 < end:\n",
    "            mid = (start + end)/2\n",
    "            if target > nums[end]:        # left\n",
    "                if nums[mid] > nums[end]: # left\n",
    "                    if nums[mid] > target:\n",
    "                        end = mid\n",
    "                    elif nums[mid] == target:\n",
    "                        return mid\n",
    "                    else:\n",
    "                        start = mid\n",
    "                else:\n",
    "                    end = mid\n",
    "            elif target == nums[end]:      # right\n",
    "                return end\n",
    "            else:\n",
    "                if nums[mid] > nums[end]:\n",
    "                    start = mid\n",
    "                else:                     # right\n",
    "                    if nums[mid] > target:\n",
    "                        end = mid\n",
    "                    elif nums[mid] == target:\n",
    "                        return mid\n",
    "                    else:\n",
    "                        start = mid\n",
    "        \n",
    "        if nums[start] == target:\n",
    "            return start\n",
    "        if nums[end] == target:\n",
    "            return end\n",
    "        return -1"
   ]
  },
  {
   "cell_type": "markdown",
   "metadata": {},
   "source": [
    "[**`Median of Two Sorted Arrays`**](https://leetcode.com/problems/median-of-two-sorted-arrays/description/) requires one to find the median of two arrays. Then median is possilble to be the end of one array or the beginning -- basically anyway chould be possible.\n",
    "\n",
    "- The *must known* solution is `O(n)` time `O(1)` seudo merge. That is, find the `(m+n)/2` smallest element by merging two arrays together.\n",
    "- A better solution can **only** be `O(logn)` time. And logn solutions are **almost all** binary search solutions. Each time we find the middles of two arrays, which do not guarantee to find range of the median. However, it guarantee the median can **never** show up in one of the half-array."
   ]
  },
  {
   "cell_type": "code",
   "execution_count": null,
   "metadata": {
    "collapsed": true
   },
   "outputs": [],
   "source": [
    "class Solution(object):\n",
    "    def findMedianSortedArrays(self, nums1, nums2):\n",
    "        \"\"\"\n",
    "        :type nums1: List[int]\n",
    "        :type nums2: List[int]\n",
    "        :rtype: float\n",
    "        \"\"\"        "
   ]
  }
 ],
 "metadata": {
  "kernelspec": {
   "display_name": "Python 2",
   "language": "python",
   "name": "python2"
  },
  "language_info": {
   "codemirror_mode": {
    "name": "ipython",
    "version": 2
   },
   "file_extension": ".py",
   "mimetype": "text/x-python",
   "name": "python",
   "nbconvert_exporter": "python",
   "pygments_lexer": "ipython2",
   "version": "2.7.13"
  }
 },
 "nbformat": 4,
 "nbformat_minor": 2
}
