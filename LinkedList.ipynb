{
 "cells": [
  {
   "cell_type": "markdown",
   "metadata": {},
   "source": [
    "## Linked List\n",
    "\n",
    "Single Linked List is a data structure with a `next` pointer to the next node, while a Double Linked List has one more pointer to the previous one. Linked List in this notebook refers to Single Linked List which is defined as follows."
   ]
  },
  {
   "cell_type": "code",
   "execution_count": 4,
   "metadata": {
    "collapsed": true
   },
   "outputs": [],
   "source": [
    "# Definition for singly-linked list.\n",
    "class ListNode(object):\n",
    "    def __init__(self, x):\n",
    "        self.val = x\n",
    "        self.next = None"
   ]
  },
  {
   "cell_type": "markdown",
   "metadata": {},
   "source": [
    "The main property of Linked List is that it follows one direction. All the elements can be accessed via `head` pointer in a `O(n)` time. Most of the time, all we need (have) is a **head pointer**, and changes should be done **in-place**.\n",
    "\n",
    "    head --> |node 1|    /-->  |node 2|    /-->  |node 3|       /-...-> |node n|\n",
    "             | next | --/      | next | --/      | next | -...-/        | next | --> None\n",
    "             \n",
    "Typical Linked list related algorithms/tricks includes:\n",
    "- `prev` pointer and `curr` pointer\n",
    "- `fast` pointer and `slow` pointer\n",
    "- `Dummy` node\n",
    "\n",
    "Typical problems we should take good care:\n",
    "- the sequence to modify pointes\n",
    "- the end of the linked list\n",
    "- no node or one node case\n",
    "\n",
    "Here we list some interesting problems:"
   ]
  },
  {
   "cell_type": "markdown",
   "metadata": {},
   "source": [
    "#### [`Reverse Linked List`](https://leetcode.com/problems/reverse-linked-list/description/)\n",
    "\n",
    "What we have is a head pointer to the first node, which will be the last after modification; what we'll return is a head pointer to the last node at the begining. Thus, it is reasonable to presume it take `O(n)` time to finish.\n",
    "\n",
    "One can imagine there is a boundary: left part is reversed list going left, and the right part is unreversed part going right."
   ]
  },
  {
   "cell_type": "code",
   "execution_count": null,
   "metadata": {
    "collapsed": true
   },
   "outputs": [],
   "source": [
    "class Solution(object):\n",
    "    def reverseList(self, head):\n",
    "        \"\"\"\n",
    "        :type head: ListNode\n",
    "        :rtype: ListNode\n",
    "        \"\"\"\n",
    "        if not head or not head.next:\n",
    "            return head\n",
    "        \n",
    "        new_head = None\n",
    "        while head:\n",
    "            temp = head.next # save the unseen\n",
    "            head.next = new_head\n",
    "            new_head = head\n",
    "            head = temp\n",
    "        return new_head"
   ]
  },
  {
   "cell_type": "markdown",
   "metadata": {},
   "source": [
    "**Follow ups:**\n",
    "\n",
    "[`Palindrome Linked List`](https://leetcode.com/problems/palindrome-linked-list/description/) can be done by fast and slow pointers and reversing one of the half lists. It's slightly different for even nodes and odd nodes.\n",
    "\n",
    "#### Fast and Slow pointers\n",
    "\n",
    "Fast and slow pointers works when `fast.next and fast.next.next` holds\n",
    "\n",
    "For **odd** number, slow pointer is right the middle, and fast is the last:\n",
    "\n",
    "    --> node1 --> node2 --> node3 --> node4 --> node5\n",
    "                              s                   f\n",
    "                              \n",
    "For **even** number, slow pointer is right the middle, and fast is the one **before** the last:\n",
    "\n",
    "    --> node1 --> node2 --> node3 --> node4 --> node5 --> node6\n",
    "                              s                   f\n",
    "                              \n",
    "For **both**:\n",
    "- `s.next` is the right half of the node."
   ]
  },
  {
   "cell_type": "code",
   "execution_count": 3,
   "metadata": {
    "collapsed": true
   },
   "outputs": [],
   "source": [
    "class Solution(object):\n",
    "    def isPalindrome(self, head):\n",
    "        \"\"\"\n",
    "        :type head: ListNode\n",
    "        :rtype: bool\n",
    "        \"\"\"\n",
    "        if not head or not head.next:\n",
    "            return True\n",
    "        \n",
    "        new_head = None\n",
    "        slow, fast = head, head\n",
    "        while fast.next and fast.next.next:\n",
    "            fast = fast.next.next\n",
    "            temp = slow.next\n",
    "            slow.next = new_head\n",
    "            new_head = slow\n",
    "            slow = temp\n",
    "        \n",
    "        second = slow.next\n",
    "        if fast.next: # even\n",
    "            slow.next = new_head\n",
    "            first = slow\n",
    "        else: # odd\n",
    "            first = new_head\n",
    "        while second and first:\n",
    "            if second.val != first.val:\n",
    "                return False\n",
    "            second = second.next\n",
    "            first = first.next\n",
    "        return True\n",
    "            \n",
    "            "
   ]
  },
  {
   "cell_type": "markdown",
   "metadata": {},
   "source": [
    "#### [`Intersection of Two Linked Lists`](https://leetcode.com/problems/intersection-of-two-linked-lists/description/)\n",
    "\n",
    "    A:          a1 → a2\n",
    "                       ↘\n",
    "                         c1 → c2 → c3\n",
    "                       ↗            \n",
    "    B:     b1 → b2 → b3\n",
    "    \n",
    "The meet point locates at different position of two lists, i.e. one pass will not find the meet point. To let the two sequence have the same length, we can swap pointers after one pass (both of the pointers will go throuth both lists as below), and the point they met is the intersection.\n",
    "   \n",
    "    a1 → a2 → c1 → c2 → c3 | b1 → b2 → b3 → c1\n",
    "    b1 → b2 → b3 → c1 → c2 → c3 | a1 → a2 → c1\n",
    " "
   ]
  },
  {
   "cell_type": "code",
   "execution_count": 2,
   "metadata": {
    "collapsed": true
   },
   "outputs": [],
   "source": [
    "class Solution(object):\n",
    "    def getIntersectionNode(self, headA, headB):\n",
    "        \"\"\"\n",
    "        :type head1, head1: ListNode\n",
    "        :rtype: ListNode\n",
    "        \"\"\"\n",
    "        ptrA, ptrB = headA, headB\n",
    "        reverse = False\n",
    "        while ptrA or ptrB:\n",
    "            if ptrA == ptrB:\n",
    "                return ptrA\n",
    "            \n",
    "            if ptrA:\n",
    "                ptrA = ptrA.next \n",
    "            elif not reverse:\n",
    "                ptrA = headB\n",
    "                reverse = True\n",
    "            else:\n",
    "                return None\n",
    "            \n",
    "            if ptrB:\n",
    "                ptrB = ptrB.next \n",
    "            else:\n",
    "                ptrB = headA\n",
    "                \n",
    "        return None"
   ]
  },
  {
   "cell_type": "markdown",
   "metadata": {},
   "source": [
    "#### [`Linked List Cycle II`](https://leetcode.com/problems/linked-list-cycle-ii/description/)\n",
    "\n",
    "The simpler one [`Linked List Cycle`](https://leetcode.com/problems/linked-list-cycle/description/) only need to return if the linked list has cycle, which can be detected via `fast` and `slow` pointers. If them meet eventually, one can confirm they have a cycle."
   ]
  },
  {
   "cell_type": "code",
   "execution_count": null,
   "metadata": {
    "collapsed": true
   },
   "outputs": [],
   "source": [
    "class Solution(object):\n",
    "    def detectCycle(self, head):\n",
    "        \"\"\"\n",
    "        :type head: ListNode\n",
    "        :rtype: ListNode\n",
    "        \"\"\""
   ]
  }
 ],
 "metadata": {
  "kernelspec": {
   "display_name": "Python 2",
   "language": "python",
   "name": "python2"
  },
  "language_info": {
   "codemirror_mode": {
    "name": "ipython",
    "version": 2
   },
   "file_extension": ".py",
   "mimetype": "text/x-python",
   "name": "python",
   "nbconvert_exporter": "python",
   "pygments_lexer": "ipython2",
   "version": "2.7.13"
  }
 },
 "nbformat": 4,
 "nbformat_minor": 2
}
