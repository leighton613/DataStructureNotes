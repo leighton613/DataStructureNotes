{
 "cells": [
  {
   "cell_type": "markdown",
   "metadata": {},
   "source": [
    "# Dynamic Programming\n",
    "\n",
    "DP is a way to solve problem with *memory*, like a dp table. One can refer to the previous memory for a sub-solution, instead of calculating again.\n",
    "\n",
    "A way to think of DP problem is imagine a little bird just tell you the perfect answer `s[n]`, and then you organize how this `s[n]` relates to `s[n-1]` and so on. By so, we can organize the **transformation function**, which is the most important part in DP problems.\n",
    "\n",
    "For example, the [`Climbing Stairs`](https://leetcode.com/problems/climbing-stairs/description/) problem can be expressed as following:\n",
    "\n",
    "    s[n] = s[n-1] + s[n-2]\n",
    "    \n",
    "where `s[n]` means the number of ways to climbing `n` stairs. This is the definition of the **state** or the **dp table**.\n",
    "\n",
    "In this case the final **answer** is just the last element of dp table. That is, we only need to follow the rule above. However, in some cases, the last element should be treated differently.\n",
    "\n",
    "So where did this start? Since everything counts on the previous solution, then we need a **initialization**. At the very begining, it's always easy to think for only 1 or 2 stairs. Generally speaking, one needs to initailize edge cases (first several elements of an array, first several cols/rows of a matrix, so on), sometimes it requires a whole initailization for the whole table to make things easier.\n",
    "\n",
    "So the four elements to construct an solution to a DP problem:\n",
    "1. DP table/state definition: how to reduce the problem to smaller ones\n",
    "2. Transformation function: how to construct the answer with previous solutions\n",
    "3. Initialization\n",
    "4. Final answer"
   ]
  },
  {
   "cell_type": "code",
   "execution_count": null,
   "metadata": {
    "collapsed": true
   },
   "outputs": [],
   "source": [
    "class Solution(object):\n",
    "    def climbStairs(self, n):\n",
    "        \"\"\"\n",
    "        :type n: int\n",
    "        :rtype: int\n",
    "        \"\"\""
   ]
  },
  {
   "cell_type": "markdown",
   "metadata": {},
   "source": [
    "**[`Triangle`](https://leetcode.com/problems/triangle/description/)** is a interesting problem showing a triangle like:\n",
    "\n",
    "    2                 level 1\n",
    "    3 4\n",
    "    5 6 7\n",
    "    8 9 10 11\n",
    "    ...               level n\n",
    "    \n",
    "One needs to find a path from top to bottom with a minimum sum.\n",
    "\n",
    "- **DFS** -- Reduce to **binary tree**: Triangle structure can be reduced to a binary tree. However, for `n` levels, a tree has `2^n` node while a triangle only has `2n` nodes. That is, we need a `2^n` time to solve this problem, which is inefficient. Note that this inefficiency comes from *calculating the same node for multiple times*.\n",
    "- **DP** -- Reduce to subproblems of `n-1` levels plus one: `s[n] = min(s[n-1]) + 1`\n",
    "\n",
    "The **subproblem** concept may be ambifguous, because for DFS the original problem also depends on smaller ones. Note that DFS usually deals with problems whose recursions does *not* have intersections, such as tree problems. On the other hand, the subproblem of DP should be kept for future use, that is *DP table* in practice."
   ]
  },
  {
   "cell_type": "code",
   "execution_count": 1,
   "metadata": {
    "collapsed": true
   },
   "outputs": [],
   "source": [
    "class Solution(object):\n",
    "    def minimumTotal(self, triangle):\n",
    "        \"\"\"\n",
    "        :type triangle: List[List[int]]\n",
    "        :rtype: int\n",
    "        \"\"\"\n",
    "        if not triangle: return 0\n",
    "        \n",
    "        n = len(triangle)\n",
    "        # dp definition: the minimum sum at that point\n",
    "        dp = [[0 for i in range(n)] for j in range(n)]\n",
    "        # Initialization\n",
    "        dp[0] = triangle[0]\n",
    "        for i in range(1,n):\n",
    "            dp[i][0] = dp[i-1][0] + triangle[i][0]\n",
    "            dp[i][i] = dp[i-1][i-1] + triangle[i][i]\n",
    "        \n",
    "        for i in range(2, n):\n",
    "            for j in range(1, i): # only the inner elements\n",
    "                dp[i][j] = min(dp[i-1][j-1], dp[i-1][j])+triangle[i][j]\n",
    "                \n",
    "        return min(dp[-1])"
   ]
  },
  {
   "cell_type": "markdown",
   "metadata": {},
   "source": [
    "[**`Is Subsequence`**](https://leetcode.com/problems/is-subsequence/description/)\n",
    "\n",
    "DP is natually good at **subsequence** problem. Note that subsequence is a subset with *order*, and elements are not necessarily need to be adjacent. On the other hand, for **subset** problem, there is also chance that DP comes in handy when processing a *sorted* list with order, while the result only needs to be a set."
   ]
  },
  {
   "cell_type": "code",
   "execution_count": 60,
   "metadata": {
    "collapsed": true
   },
   "outputs": [],
   "source": [
    "class Solution(object):\n",
    "    def isSubsequence(self, s, t):\n",
    "        \"\"\"\n",
    "        :type s: str\n",
    "        :type t: str\n",
    "        :rtype: bool\n",
    "        \"\"\"\n",
    "        if not s: return True\n",
    "        if not t or len(s)>len(t): return False\n",
    "        \n",
    "        # dp[i][j] for t[:i+1] contains s[:j+1] if hold\n",
    "        dp = [[False for j in range(len(s))] for i in range(len(t))]\n",
    "        # initialzation\n",
    "        dp[0][0] = s[0]==t[0]\n",
    "        for i in range(1,len(t)):\n",
    "            dp[i][0] = (t[i]==s[0] or dp[i-1][0])\n",
    "        \n",
    "        # transform\n",
    "        firstTrue = 0\n",
    "        for j in range(1,len(s)):\n",
    "            TrueFound = False\n",
    "            for i in range(firstTrue+1,len(t)):\n",
    "                result = dp[i][j-1] and (t[i]==s[j] or dp[i-1][j])\n",
    "                dp[i][j] = result\n",
    "                if not TrueFound and result:\n",
    "                    firstTrue = i\n",
    "                    TrueFound = True\n",
    "        \n",
    "#         for temp in dp:\n",
    "#             print temp\n",
    "        \n",
    "        return dp[-1][-1]\n",
    "                \n",
    "                "
   ]
  },
  {
   "cell_type": "code",
   "execution_count": 61,
   "metadata": {},
   "outputs": [
    {
     "name": "stdout",
     "output_type": "stream",
     "text": [
      "[True, False, False, False, False]\n",
      "[True, True, False, False, False]\n",
      "[True, True, False, False, False]\n",
      "[True, True, False, False, False]\n",
      "[True, True, False, False, False]\n",
      "[True, True, False, False, False]\n",
      "[True, True, False, False, False]\n",
      "[True, True, False, False, False]\n",
      "[True, True, False, False, False]\n",
      "[True, True, False, False, False]\n",
      "[True, True, False, False, False]\n",
      "[True, True, True, False, False]\n",
      "[True, True, True, False, False]\n"
     ]
    },
    {
     "data": {
      "text/plain": [
       "False"
      ]
     },
     "execution_count": 61,
     "metadata": {},
     "output_type": "execute_result"
    }
   ],
   "source": [
    "Solution().isSubsequence(s='leeet', t='leyyyyyyyyyet')"
   ]
  },
  {
   "cell_type": "markdown",
   "metadata": {},
   "source": [
    "[**`Longest Increasing Subsequence`**](https://leetcode.com/problems/longest-increasing-subsequence/description/) shows a sequence like:\n",
    "\n",
    "    1 5 4 2 3 0 --> [1 2 3] --> len 3\n",
    "    \n",
    "DP is good at finding **maximun/minimum**, **total** number and answer with a **direction** such as subsequence. *Subsequence* means it can start anywhere, end anywhere and jump to any where but definitely *from left to the right side* with constraint *increasing*. **DP is naturally good at subsequence problem**. The whole problem can be expressed as:\n",
    "\n",
    "    s[n] = max(s[i] for i in range(0,n) if num[i] < num[n]) + 1\n",
    "\n",
    "- Definition of `s[n]` the longest increasing subsequence ending up at this node (including node n)\n",
    "- Think what the initialization value should be here.\n",
    "- Final answer is *not* the last value of dp table. Why? Not necessarily contain the last number."
   ]
  },
  {
   "cell_type": "code",
   "execution_count": 12,
   "metadata": {
    "collapsed": true
   },
   "outputs": [],
   "source": [
    "class Solution(object):\n",
    "    def lengthOfLIS(self, nums):\n",
    "        \"\"\"\n",
    "        :type nums: List[int]\n",
    "        :rtype: int\n",
    "        \"\"\"\n",
    "        if len(nums) < 1:\n",
    "            return len(nums)\n",
    "        \n",
    "        dp = [1]\n",
    "        for i in range(1, len(nums)):\n",
    "            prev = [dp[k] for k in range(0,i) if nums[k]<nums[i]]\n",
    "            if prev:\n",
    "                dp.append(max(prev) + 1)\n",
    "            else:\n",
    "                dp.append(1)\n",
    "                    \n",
    "        return max(dp)"
   ]
  },
  {
   "cell_type": "markdown",
   "metadata": {},
   "source": [
    "[**`Number of Longest Increasing Subsequence`**](https://leetcode.com/problems/number-of-longest-increasing-subsequence/description/) is similar but need a backtracking. First when setting up the dp table, we also keep track of the number that has the same maximum.\n",
    "\n",
    "For each element (`s[n]`), it's possible there are *multiple valid `max`* value, then all of them should be considered."
   ]
  },
  {
   "cell_type": "code",
   "execution_count": 24,
   "metadata": {
    "collapsed": true
   },
   "outputs": [],
   "source": [
    "class Solution(object):\n",
    "    def findNumberOfLIS(self, nums):\n",
    "        \"\"\"\n",
    "        :type nums: List[int]\n",
    "        :rtype: int\n",
    "        \"\"\"\n",
    "        if len(nums) < 1:\n",
    "            return len(nums)\n",
    "        \n",
    "        dp_len = [1 for _ in range(len(nums))]\n",
    "        dp_num = [1 for _ in range(len(nums))]\n",
    "        \n",
    "        for i in range(1, len(nums)): # for the rest\n",
    "            prev = [(dp_len[k], k) for k in range(0,i) if nums[k]<nums[i]]\n",
    "            if prev:\n",
    "                dp_len[i] = max([item[0] for item in prev]) + 1\n",
    "                dp_num[i] = sum([dp_num[item[1]] for item in prev if item[0]==dp_len[i]-1])\n",
    "        return sum([dp_num[i] for i in range(len(nums)) if dp_len[i]==max(dp_len)])"
   ]
  },
  {
   "cell_type": "code",
   "execution_count": null,
   "metadata": {
    "collapsed": true
   },
   "outputs": [],
   "source": []
  }
 ],
 "metadata": {
  "kernelspec": {
   "display_name": "Python 2",
   "language": "python",
   "name": "python2"
  },
  "language_info": {
   "codemirror_mode": {
    "name": "ipython",
    "version": 2
   },
   "file_extension": ".py",
   "mimetype": "text/x-python",
   "name": "python",
   "nbconvert_exporter": "python",
   "pygments_lexer": "ipython2",
   "version": "2.7.13"
  }
 },
 "nbformat": 4,
 "nbformat_minor": 2
}
