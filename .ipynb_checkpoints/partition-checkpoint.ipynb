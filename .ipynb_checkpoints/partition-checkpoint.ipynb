{
 "cells": [
  {
   "cell_type": "markdown",
   "metadata": {},
   "source": [
    "There is another applications for `two pointers` algorithms -- **Partition array**. Partition means divide (array) into two (or more) parts, with the two pointers marking the boundary.\n",
    "\n",
    "    ...num<=k...|i|...<unseen>...|j, num>k...\n",
    "      part 1    |      part2     |   part3 \n",
    "      \n",
    "- `part1`: partitioned numbers that are `<=k`\n",
    "- `part3`: partitioned numbers that are `>k`, `j` marks the first element\n",
    "- `part2`: unexplored numbers, `i` marks the first element\n",
    "- Process: `i` keeps exploring unseen part, put it to `part1` or swap to `part2`, until it meets `j`.\n",
    "\n",
    "#### Quick sort\n",
    "A typical algorithm is [`Quick Sort`], which is a typical algorithm using partition sorting array in-place using `O(nlogn)` time on average."
   ]
  },
  {
   "cell_type": "code",
   "execution_count": null,
   "metadata": {
    "collapsed": true
   },
   "outputs": [],
   "source": []
  },
  {
   "cell_type": "markdown",
   "metadata": {
    "collapsed": true
   },
   "source": [
    "#### kth stats\n",
    "Another problem is [`Find kth largest value`](https://leetcode.com/problems/kth-largest-element-in-an-array/description/) or `Find Median`. These problems can be reduced to a sorting problem, but not necessarily. Using Partition to divide the problem to two parts, and only need to keep search in one of the target subarray."
   ]
  },
  {
   "cell_type": "code",
   "execution_count": null,
   "metadata": {
    "collapsed": true
   },
   "outputs": [],
   "source": [
    "class Solution(object):\n",
    "    def findKthLargest(self, nums, k):\n",
    "        \"\"\"\n",
    "        :type nums: List[int]\n",
    "        :type k: int\n",
    "        :rtype: int\n",
    "        \"\"\""
   ]
  },
  {
   "cell_type": "markdown",
   "metadata": {},
   "source": [
    "#### Rainbow sort\n",
    "[`Sort color`](https://leetcode.com/problems/sort-colors/description/) is a problem sorting only 0 and 1, 2. It is a special sorting problem because it has only 3 values. It can be done within one partition. However, if the colors get more, like `Sort k colors` or so, it still need recursive partition. By dividing colors into two groups each time, the problem can be solved in `O(nlogk)`,"
   ]
  },
  {
   "cell_type": "code",
   "execution_count": null,
   "metadata": {
    "collapsed": true
   },
   "outputs": [],
   "source": [
    "class Solution(object):\n",
    "    def sortColors(self, nums):\n",
    "        \"\"\"\n",
    "        :type nums: List[int]\n",
    "        :rtype: void Do not return anything, modify nums in-place instead.\n",
    "        \"\"\""
   ]
  }
 ],
 "metadata": {
  "kernelspec": {
   "display_name": "Python 2",
   "language": "python",
   "name": "python2"
  },
  "language_info": {
   "codemirror_mode": {
    "name": "ipython",
    "version": 2
   },
   "file_extension": ".py",
   "mimetype": "text/x-python",
   "name": "python",
   "nbconvert_exporter": "python",
   "pygments_lexer": "ipython2",
   "version": "2.7.13"
  }
 },
 "nbformat": 4,
 "nbformat_minor": 2
}
